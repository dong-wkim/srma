{
 "cells": [
  {
   "cell_type": "markdown",
   "id": "e16ca440-96c8-43ef-9d58-569ed27c7926",
   "metadata": {},
   "source": [
    "# Systematic Review and Meta-Analysis Documentation"
   ]
  },
  {
   "cell_type": "markdown",
   "id": "52f07f13-d605-4b61-aa0b-96048da7515d",
   "metadata": {},
   "source": [
    "## Protocol"
   ]
  },
  {
   "cell_type": "markdown",
   "id": "3ac67675-f008-49ca-ac7f-a250e1ff7aa7",
   "metadata": {},
   "source": [
    "| | | | |\n",
    "|:--|:--|--|--|\n",
    "| Review title                                        | Peroneus longus tendon with or without peroneus brevis tenodesis for primary anterior cruciate ligament reconstruction surgery: A systematic review and meta-analysis.                                                                                                                                                                                                                                                                                                                                                   |             |               |\n",
    "| Condition or domain being studied                   | Knee and ankle outcome measures after primary anterior cruciate ligament reconstruction surgery using peroneus longus tendon autograft.                                                                                                                                                                                                                                                                                                                                                                                  |             |               |\n",
    "| Rationale for the review                            | A systematic review and meta-analysis of studies reporting outcomes using the peroneus longus tendon for ACLR –- whether single-arm syntheses or comparison between two methods of harvesting is not available in current literature. Results of this study will add significant value to the knowledge surrounding available graft options for ACLR surgery.                                                                                                                                                            |             |               |\n",
    "| Original language title                             | English                                                                                                                                                                                                                                                                                                                                                                                                                                                                                                                  |             |               |\n",
    "| Review objectives                                   | Are the knee function outcomes of peroneus longus tendon autograft comparable to those of other graft options? Do the ankle function outcomes outweigh the donor-site morbidity and adverse events that arise from other graft harvesting locations? How does peroneus longus tendon harvesting with and without peroneus brevis tenodesis affect knee and ankle outcomes?                                                                                                                                               |             |               |\n",
    "| Keywords                                            | anterior cruciate ligament reconstruction, ACLR, peroneus longus, PLT, fibularis longus, FLT, autograft                                                                                                                                                                                                                                                                                                                                                                                                                  |             |               |\n",
    "| Searches                                            | PubMed/MEDLINE, Embase, Web of Science, Scopus, Cochrane Library                                                                                                                                                                                                                                                                                                                                                                                                                                                         |             |               |\n",
    "| Study design                                        | Systematic review and meta-analysis of randomized clinical trials, prospective cohort studies, retrospective cohort studies, case-control studies, and case series. Level of evidence (IV)                                                                                                                                                                                                                                                                                                                               |             |               |\n",
    "| Population                                          | Skeletally-mature adult patients defined as ≥ 18 years old.                                                                                                                                                                                                                                                                                                                                                                                                                                                              |             |               |\n",
    "| Intervention(s) or exposure(s)                      | Peroneus longus tendon (PLT) graft harvest with or without distal attachment to peroneus brevis tendon (PLBT).                                                                                                                                                                                                                                                                                                                                                                                                           |             |               |\n",
    "| Comparator(s) or control(s)                         | Covariates include mean follow-up duration (months), gender (male, female), and age (years).                                                                                                                                                                                                                                                                                                                                                                                                                             |             |               |\n",
    "| Main outcomes                                       | International Knee Documentation Committee (IKDC) Subjective Knee Form, Lysholm Knee Scoring Scale, Foot and Ankle Disability Index (FADI), American Orthopaedic Foot and Ankle Society (AOFAS) Ankle Hindfoot Scale                                                                                                                                                                                                                                                                                                     |             |               |\n",
    "| Additional outcomes                                 | Graft failure (clinical, rupture), other knee outcome scores and ankle donor-site morbidity                                                                                                                                                                                                                                                                                                                                                                                                                              |             |               |\n",
    "| Data extraction (selection and coding)              | A standardized data collection form will be created, piloted, and used for data extraction by two independent reviewers and inter-rater reliability will be calculated using Cohen's κ and ICC co-efficients.                                                                                                                                                                                                                                                                                                            |             |               |\n",
    "| Risk of bias (quality) assessment                   | Randomized clinical trials (RCTs) will be assessed using Cochrane's revised RoB 2 tool and observational studies (prospective and retrospective cohort studies, case-control studies, and case series will be assessed using the MINORS criteria.                                                                                                                                                                                                                                                                        |             |               |\n",
    "| Strategy for data synthesis                         | Extracted outcome data will be transformed into standardized continuous (i.e., sample size, mean, standard deviation) and dichotomous (i.e., sample size, event) data and synthesized using meta-analysis of random effects into pooled means and prevalences. Within study means will undergo inverse-variance weighted and DerSimonian-Laird methods and proportions will undergo inverse logit transformation and restricted maximum likelihood (REML) methods for pooled estimate and standard errors, respectively. |             |               |\n",
    "| Analysis of subgroups or subsets                    | Subgroup analysis between PLT and PLBT will be performed to compare the effects of distal attachment during graft harvesting. Meta-regression analysis will be performed to control for the covariates (follow-up duration, mean age of participants, and gender) to determine whether the results are better explained by other predictors than variation in graft harvesting technique.                                                                                                                                |             |               |\n",
    "| Review team members                                 | Dong Woon Kim, MD Shayden Bernas Konrad Malinowski, MD, PhD                                                                                                                                                                                                                                                                                                                                                                                                                                                              |             |               |\n",
    "| Review affiliation                                  | Jagiellonian University Medical College, Kraków, Poland Artromedical Orthopedic Clinic, Bełchatów, Poland                                                                                                                                                                                                                                                                                                                                                                                                                |             |               |\n",
    "| Funding source                                      | N/A                                                                                                                                                                                                                                                                                                                                                                                                                                                                                                                      |             |               |\n",
    "| Named contact                                       | Dong Woon Kim (d.kim@student.uj.edu.pl)                                                                                                                                                                                                                                                                                                                                                                                                                                                                                  |             |               |\n",
    "| Review timeline                                     | Started: 2025-10-12                                                                                                                                                                                                                                                                                                                                                                                                                                                                                                      |             |               |\n",
    "| Date of first submission to PROSPERO                | 2025-10-16                                                                                                                                                                                                                                                                                                                                                                                                                                                                                                               |             |               |\n",
    "| Date of registration in PROSPERO                    |                                                                                                                                                                                                                                                                                                                                                                                                                                                                                                                          |             |               |\n",
    "| Publication of review results                       | Review results will be published for public access after acceptance for publication.                                                                                                                                                                                                                                                                                                                                                                                                                                     |             |               |\n",
    "| Stage of the review at this submission              | **Review stage**                                                                                                                                                                                                                                                                                                                                                                                                                                                                                                         | **Started** | **Completed** |\n",
    "| Screening search results against inclusion criteria | 17.10.2025                                                                                                                                                                                                                                                                                                                                                                                                                                                                                                               |             |               |\n",
    "| Data synthesis                                      |                                                                                                                                                                                                                                                                                                                                                                                                                                                                                                                          |             |               |\n",
    "| Pilot work                                          |                                                                                                                                                                                                                                                                                                                                                                                                                                                                                                                          |             |               |\n",
    "| Data extraction or receipt of IP                    |                                                                                                                                                                                                                                                                                                                                                                                                                                                                                                                          |             |               |\n",
    "| Formal searching/study identification               |                                                                                                                                                                                                                                                                                                                                                                                                                                                                                                                          |             |               |\n",
    "| Risk of bias/quality assessment                     |                                                                                                                                                                                                                                                                                                                                                                                                                                                                                                                          |             |               |\n",
    "\n",
    "Review status\n",
    "\n",
    "Review conflict of interest\n",
    "\n",
    "None.\n",
    "\n",
    "Country\n",
    "\n",
    "Poland\n"
   ]
  },
  {
   "cell_type": "markdown",
   "id": "aeceb371-df67-4263-b4e1-72173030bade",
   "metadata": {},
   "source": [
    "---"
   ]
  },
  {
   "cell_type": "markdown",
   "id": "c8199b27-891b-4e8e-b0a9-cbc820ffcc76",
   "metadata": {},
   "source": [
    "## Deduplication\n",
    "\n",
    "Documentation of python scripts used for deduplication of search results (records).\n",
    "\n",
    "2025-10-22: Created custom python script (path: '../src/**deduplication.py**') to deduplicate based on selected column(s).   \n",
    "2025-10-22: Performed using doi, study_id (last name of first author + year of publication), and short_title (first 25 characters, trimmed and case-insensitized title).  \n",
    "2025-10-23: TODO - standardize journal names, and create loop-function for standalone deduplication based on multiple columns in a step-wise fashion. "
   ]
  },
  {
   "cell_type": "code",
   "execution_count": 33,
   "id": "7c1499f1-b0c7-4018-a7a4-4a726023bb82",
   "metadata": {},
   "outputs": [],
   "source": [
    "import pandas as pd\n",
    "df = pd.read_csv('data/records.csv')\n",
    "df['study'] = df['first_author'] + ' ' + df['year'].astype(str)\n",
    "df.to_csv('data/records-revised.csv', index = False)"
   ]
  },
  {
   "cell_type": "code",
   "execution_count": null,
   "id": "3abbd052-922d-4985-84fb-e4ec7a7449cb",
   "metadata": {},
   "outputs": [],
   "source": [
    "import pandas as pd\n",
    "import numpy as np\n",
    "import mermaid as md\n",
    "from mermaid.graph import Graph\n",
    "import subprocess\n",
    "\n",
    "def deduplicate(df, cols):\n",
    "    input_file_name = 'data/' + input('Enter file name: ') + '.csv'\n",
    "    df = pd.read_csv(input_file_name) # A (records)\n",
    "    cols_input = input('Enter the columns for which to deduplicate based on: ')\n",
    "    cols = [c.strip() for c in cols_input.split(',')]\n",
    "    output_file_name = 'data/' + '_'.join(cols) + '_deduplicated.csv'\n",
    "    prisma_file_name = output_file_name.replace('.csv', '.mmd')\n",
    "\n",
    "    nulls_mask = df[cols].isnull().any(axis=1)\n",
    "    df_nulls = df[nulls_mask] # B\n",
    "    df_non_nulls = df[~nulls_mask] # C\n",
    "    \n",
    "    duplicates_mask = df_non_nulls.duplicated(subset = cols, keep = False)\n",
    "    df_non_duplicates = df_non_nulls[~duplicates_mask] # D\n",
    "    df_duplicates = df_non_nulls[duplicates_mask] # E\n",
    "    df_kept = df_duplicates.drop_duplicates(subset = cols, keep = 'first')\n",
    "    df_removed = df_duplicates[~df_duplicates.index.isin(df_kept.index)]\n",
    "    df_unique = df_non_nulls.drop_duplicates(subset = cols, keep = 'first') # df of unique\n",
    "    df_deduplicated = pd.concat([df_unique, df_nulls], ignore_index=True) # df of unique + df of nulls\n",
    "\n",
    "    results = {\n",
    "        \"records\": len(df),\n",
    "        \"nulls\": len(df_nulls),\n",
    "        \"non_nulls\": len(df_non_nulls),\n",
    "        \"non_duplicates\": len(df_non_duplicates),\n",
    "        \"duplicates\": len(df_duplicates),\n",
    "        \"removed\": len(df_removed),\n",
    "        \"kept\": len(df_kept),\n",
    "        \"unique\": len(df_unique),\n",
    "        \"deduplicated\": len(df_deduplicated)\n",
    "    }\n",
    "    \n",
    "    df_deduplicated.to_csv(output_file_name, index = False)\n",
    "    df_removed.to_csv(output_file_name.replace('.csv', '_removed.csv'), index = False)\n",
    "\n",
    "    \n",
    "    return results, df_deduplicated, df_kept, df_removed, output_file_name, prisma_file_name\n",
    "    print(results)\n",
    "if __name__ == \"__main__\":\n",
    "    results, df_deduplicated, df_kept, df_removed, output_file_name, prisma_file_name = deduplicate(df=None, cols=None)\n",
    "    \n",
    "    graph_text = f\"\"\"---\n",
    "config:\n",
    "  theme: neutral\n",
    "  curve: stepBefore\n",
    "---\n",
    "graph TD;\n",
    "A[\"**records** (*n* = {results['records']})\"];\n",
    "B[\"null (*n* = {results['nulls']})\"];\n",
    "C[\"non-null (*n* = {results['non_nulls']})\"];\n",
    "D[\"non-duplicates (*n* = {results['non_duplicates']})\"];\n",
    "E[\"duplicates (*n* = {results['duplicates']})\"];\n",
    "F[\"duplicates kept (*n* = {results['kept']})\"];\n",
    "G[\"duplicates removed (*n* = {results['removed']})\"];\n",
    "H[\"unique (*n* = {results['unique']})\"];\n",
    "I[\"deduplicated (*n* = {results['deduplicated']})\"];\n",
    "\n",
    "A --> B & C;\n",
    "C --> D & E;\n",
    "E --> F & G;\n",
    "D & F --> H;\n",
    "B & H --> I\"\"\"\n",
    "    \n",
    "\n",
    "    with open(prisma_file_name, \"w\") as f:\n",
    "        f.write(graph_text)"
   ]
  },
  {
   "cell_type": "markdown",
   "id": "71411a6b-14df-498a-9995-cd06adbf13ae",
   "metadata": {},
   "source": [
    "---"
   ]
  },
  {
   "cell_type": "code",
   "execution_count": null,
   "id": "97c6ff16-8da1-4989-9dcb-d75b0e2f5996",
   "metadata": {},
   "outputs": [],
   "source": []
  }
 ],
 "metadata": {
  "kernelspec": {
   "display_name": "Python 3 (ipykernel)",
   "language": "python",
   "name": "python3"
  },
  "language_info": {
   "codemirror_mode": {
    "name": "ipython",
    "version": 3
   },
   "file_extension": ".py",
   "mimetype": "text/x-python",
   "name": "python",
   "nbconvert_exporter": "python",
   "pygments_lexer": "ipython3",
   "version": "3.13.7"
  }
 },
 "nbformat": 4,
 "nbformat_minor": 5
}
